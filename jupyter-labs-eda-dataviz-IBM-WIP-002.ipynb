{
    "cells": [
        {
            "metadata": {},
            "cell_type": "markdown",
            "source": "<center>\n    <img src=\"https://gitlab.com/ibm/skills-network/courses/placeholder101/-/raw/master/labs/module%201/images/IDSNlogo.png\" width=\"300\" alt=\"cognitiveclass.ai logo\"  />\n</center>\n"
        },
        {
            "metadata": {},
            "cell_type": "markdown",
            "source": "# **SpaceX  Falcon 9 First Stage Landing Prediction**\n"
        },
        {
            "metadata": {},
            "cell_type": "markdown",
            "source": "## Assignment: Exploring and Preparing\u00a0Data\n"
        },
        {
            "metadata": {},
            "cell_type": "markdown",
            "source": "Estimated time needed: **70** minutes\n"
        },
        {
            "metadata": {},
            "cell_type": "markdown",
            "source": "In this assignment, we will predict if the Falcon 9 first stage will land successfully. SpaceX advertises Falcon 9 rocket launches on its website with a cost of 62 million dollars; other providers cost upward of 165 million dollars each, much of the savings is due to the fact that SpaceX can reuse the first stage.\n\nIn this lab, you will perform Exploratory Data Analysis and Feature Engineering.\n"
        },
        {
            "metadata": {},
            "cell_type": "markdown",
            "source": "Falcon 9 first stage will land successfully\n"
        },
        {
            "metadata": {},
            "cell_type": "markdown",
            "source": "![](https://cf-courses-data.s3.us.cloud-object-storage.appdomain.cloud/IBMDeveloperSkillsNetwork-DS0701EN-SkillsNetwork/api/Images/landing\\_1.gif)\n"
        },
        {
            "metadata": {},
            "cell_type": "markdown",
            "source": "Several examples of an unsuccessful landing are shown here:\n"
        },
        {
            "metadata": {},
            "cell_type": "markdown",
            "source": "![](https://cf-courses-data.s3.us.cloud-object-storage.appdomain.cloud/IBMDeveloperSkillsNetwork-DS0701EN-SkillsNetwork/api/Images/crash.gif)\n"
        },
        {
            "metadata": {},
            "cell_type": "markdown",
            "source": "Most unsuccessful landings are planned. Space X performs a controlled landing in the oceans.\n"
        },
        {
            "metadata": {},
            "cell_type": "markdown",
            "source": "## Objectives\n\nPerform exploratory Data Analysis and Feature Engineering using `Pandas` and `Matplotlib`\n\n*   Exploratory Data Analysis\n*   Preparing\u00a0Data  Feature Engineering\n"
        },
        {
            "metadata": {},
            "cell_type": "markdown",
            "source": "***\n"
        },
        {
            "metadata": {},
            "cell_type": "markdown",
            "source": "### Import Libraries and Define Auxiliary Functions\n"
        },
        {
            "metadata": {},
            "cell_type": "markdown",
            "source": "We will import the following libraries the lab\n"
        },
        {
            "metadata": {},
            "cell_type": "code",
            "source": "# andas is a software library written for the Python programming language for data manipulation and analysis.\nimport pandas as pd\n#NumPy is a library for the Python programming language, adding support for large, multi-dimensional arrays and matrices, along with a large collection of high-level mathematical functions to operate on these arrays\nimport numpy as np\n# Matplotlib is a plotting library for python and pyplot gives us a MatLab like plotting framework. We will use this in our plotter function to plot data.\nimport matplotlib.pyplot as plt\n#Seaborn is a Python data visualization library based on matplotlib. It provides a high-level interface for drawing attractive and informative statistical graphics\nimport seaborn as sns",
            "execution_count": 1,
            "outputs": []
        },
        {
            "metadata": {},
            "cell_type": "markdown",
            "source": "## Exploratory Data Analysis\n"
        },
        {
            "metadata": {},
            "cell_type": "markdown",
            "source": "First, let's read the SpaceX dataset into a Pandas dataframe and print its summary\n"
        },
        {
            "metadata": {},
            "cell_type": "code",
            "source": "df=pd.read_csv(\"https://cf-courses-data.s3.us.cloud-object-storage.appdomain.cloud/IBM-DS0321EN-SkillsNetwork/datasets/dataset_part_2.csv\")\n\n# If you were unable to complete the previous lab correctly you can uncomment and load this csv\n\n# df = pd.read_csv('https://cf-courses-data.s3.us.cloud-object-storage.appdomain.cloud/IBMDeveloperSkillsNetwork-DS0701EN-SkillsNetwork/api/dataset_part_2.csv')\n\ndf.head(5)",
            "execution_count": 2,
            "outputs": [
                {
                    "output_type": "execute_result",
                    "execution_count": 2,
                    "data": {
                        "text/plain": "   FlightNumber        Date BoosterVersion  PayloadMass Orbit    LaunchSite  \\\n0             1  2010-06-04       Falcon 9  6104.959412   LEO  CCAFS SLC 40   \n1             2  2012-05-22       Falcon 9   525.000000   LEO  CCAFS SLC 40   \n2             3  2013-03-01       Falcon 9   677.000000   ISS  CCAFS SLC 40   \n3             4  2013-09-29       Falcon 9   500.000000    PO   VAFB SLC 4E   \n4             5  2013-12-03       Falcon 9  3170.000000   GTO  CCAFS SLC 40   \n\n       Outcome  Flights  GridFins  Reused   Legs LandingPad  Block  \\\n0    None None        1     False   False  False        NaN    1.0   \n1    None None        1     False   False  False        NaN    1.0   \n2    None None        1     False   False  False        NaN    1.0   \n3  False Ocean        1     False   False  False        NaN    1.0   \n4    None None        1     False   False  False        NaN    1.0   \n\n   ReusedCount Serial   Longitude   Latitude  Class  \n0            0  B0003  -80.577366  28.561857      0  \n1            0  B0005  -80.577366  28.561857      0  \n2            0  B0007  -80.577366  28.561857      0  \n3            0  B1003 -120.610829  34.632093      0  \n4            0  B1004  -80.577366  28.561857      0  ",
                        "text/html": "<div>\n<style scoped>\n    .dataframe tbody tr th:only-of-type {\n        vertical-align: middle;\n    }\n\n    .dataframe tbody tr th {\n        vertical-align: top;\n    }\n\n    .dataframe thead th {\n        text-align: right;\n    }\n</style>\n<table border=\"1\" class=\"dataframe\">\n  <thead>\n    <tr style=\"text-align: right;\">\n      <th></th>\n      <th>FlightNumber</th>\n      <th>Date</th>\n      <th>BoosterVersion</th>\n      <th>PayloadMass</th>\n      <th>Orbit</th>\n      <th>LaunchSite</th>\n      <th>Outcome</th>\n      <th>Flights</th>\n      <th>GridFins</th>\n      <th>Reused</th>\n      <th>Legs</th>\n      <th>LandingPad</th>\n      <th>Block</th>\n      <th>ReusedCount</th>\n      <th>Serial</th>\n      <th>Longitude</th>\n      <th>Latitude</th>\n      <th>Class</th>\n    </tr>\n  </thead>\n  <tbody>\n    <tr>\n      <th>0</th>\n      <td>1</td>\n      <td>2010-06-04</td>\n      <td>Falcon 9</td>\n      <td>6104.959412</td>\n      <td>LEO</td>\n      <td>CCAFS SLC 40</td>\n      <td>None None</td>\n      <td>1</td>\n      <td>False</td>\n      <td>False</td>\n      <td>False</td>\n      <td>NaN</td>\n      <td>1.0</td>\n      <td>0</td>\n      <td>B0003</td>\n      <td>-80.577366</td>\n      <td>28.561857</td>\n      <td>0</td>\n    </tr>\n    <tr>\n      <th>1</th>\n      <td>2</td>\n      <td>2012-05-22</td>\n      <td>Falcon 9</td>\n      <td>525.000000</td>\n      <td>LEO</td>\n      <td>CCAFS SLC 40</td>\n      <td>None None</td>\n      <td>1</td>\n      <td>False</td>\n      <td>False</td>\n      <td>False</td>\n      <td>NaN</td>\n      <td>1.0</td>\n      <td>0</td>\n      <td>B0005</td>\n      <td>-80.577366</td>\n      <td>28.561857</td>\n      <td>0</td>\n    </tr>\n    <tr>\n      <th>2</th>\n      <td>3</td>\n      <td>2013-03-01</td>\n      <td>Falcon 9</td>\n      <td>677.000000</td>\n      <td>ISS</td>\n      <td>CCAFS SLC 40</td>\n      <td>None None</td>\n      <td>1</td>\n      <td>False</td>\n      <td>False</td>\n      <td>False</td>\n      <td>NaN</td>\n      <td>1.0</td>\n      <td>0</td>\n      <td>B0007</td>\n      <td>-80.577366</td>\n      <td>28.561857</td>\n      <td>0</td>\n    </tr>\n    <tr>\n      <th>3</th>\n      <td>4</td>\n      <td>2013-09-29</td>\n      <td>Falcon 9</td>\n      <td>500.000000</td>\n      <td>PO</td>\n      <td>VAFB SLC 4E</td>\n      <td>False Ocean</td>\n      <td>1</td>\n      <td>False</td>\n      <td>False</td>\n      <td>False</td>\n      <td>NaN</td>\n      <td>1.0</td>\n      <td>0</td>\n      <td>B1003</td>\n      <td>-120.610829</td>\n      <td>34.632093</td>\n      <td>0</td>\n    </tr>\n    <tr>\n      <th>4</th>\n      <td>5</td>\n      <td>2013-12-03</td>\n      <td>Falcon 9</td>\n      <td>3170.000000</td>\n      <td>GTO</td>\n      <td>CCAFS SLC 40</td>\n      <td>None None</td>\n      <td>1</td>\n      <td>False</td>\n      <td>False</td>\n      <td>False</td>\n      <td>NaN</td>\n      <td>1.0</td>\n      <td>0</td>\n      <td>B1004</td>\n      <td>-80.577366</td>\n      <td>28.561857</td>\n      <td>0</td>\n    </tr>\n  </tbody>\n</table>\n</div>"
                    },
                    "metadata": {}
                }
            ]
        },
        {
            "metadata": {},
            "cell_type": "markdown",
            "source": "First, let's try to see how the `FlightNumber` (indicating the continuous launch attempts.) and `Payload` variables would affect the launch outcome.\n\nWe can plot out the <code>FlightNumber</code> vs. <code>PayloadMass</code>and overlay the outcome of the launch. We see that as the flight number increases, the first stage is more likely to land successfully. The payload mass is also important; it seems the more massive the payload, the less likely the first stage will return.\n"
        },
        {
            "metadata": {},
            "cell_type": "code",
            "source": "sns.catplot(y=\"PayloadMass\", x=\"FlightNumber\", hue=\"Class\", data=df, aspect = 4)\nplt.xlabel(\"Flight Number\",fontsize=20)\nplt.ylabel(\"Payload Mass (kg)\",fontsize=20)\nplt.show()",
            "execution_count": 3,
            "outputs": [
                {
                    "output_type": "display_data",
                    "data": {
                        "text/plain": "<Figure size 1482.38x360 with 1 Axes>",
                        "image/png": "[encoded data removed]"
                    },
                    "metadata": {
                        "needs_background": "light"
                    }
                }
            ]
        },
        {
            "metadata": {},
            "cell_type": "code",
            "source": "sns.catplot(y=\"PayloadMass\", x=\"FlightNumber\", hue=\"Class\", col=\"Class\", height=5, data=df, aspect = 3)\nplt.xlabel(\"Flight Number\",fontsize=20)\nplt.ylabel(\"Payload Mass (kg)\",fontsize=20)\nplt.show()",
            "execution_count": null,
            "outputs": []
        },
        {
            "metadata": {},
            "cell_type": "markdown",
            "source": "Next, let's drill down to each site visualize its detailed launch records.\n"
        },
        {
            "metadata": {},
            "cell_type": "markdown",
            "source": "### TASK 1: Visualize the relationship between Flight Number and Launch Site\n"
        },
        {
            "metadata": {},
            "cell_type": "markdown",
            "source": "Use the function <code>catplot</code> to plot <code>FlightNumber</code> vs <code>LaunchSite</code>, set the  parameter <code>x</code>  parameter to <code>FlightNumber</code>,set the  <code>y</code> to <code>Launch Site</code> and set the parameter <code>hue</code> to <code>'class'</code>\n"
        },
        {
            "metadata": {},
            "cell_type": "code",
            "source": "# Plot a scatter point chart with x axis to be Flight Number and y axis to be the launch site, and hue to be the class value\nsns.catplot(y=\"LaunchSite\", x=\"FlightNumber\", hue=\"Class\", data=df, aspect = 3)\n# sns.catplot(y=\"FlightNumber\", x=\"LaunchSite\", hue=\"Class\", data=df, aspect = 5)\nplt.xlabel(\"Flight Number\",fontsize=20)\nplt.ylabel(\"Launch Site\",fontsize=20)\nplt.show()",
            "execution_count": null,
            "outputs": []
        },
        {
            "metadata": {},
            "cell_type": "code",
            "source": "# 2nd Plot a scatter point chart with x axis to be Flight Number and y axis to be the launch site, and hue to be the class value\nsns.catplot(y=\"LaunchSite\", x=\"FlightNumber\", hue=\"Class\", col=\"LaunchSite\", height=5, data=df, aspect = 1.5)\n# sns.catplot(y=\"FlightNumber\", x=\"LaunchSite\", hue=\"Class\", data=df, aspect = 5)\n#plt.xlabel(\"Flight Number\")\n#plt.ylabel(\"Launch Site\")\nplt.show()",
            "execution_count": null,
            "outputs": []
        },
        {
            "metadata": {},
            "cell_type": "code",
            "source": "df_mean = df.copy()\nresult2_df = df_mean.groupby('LaunchSite').mean('Class')  # calc the mean of Class\nresult2_df[['Class']]*100",
            "execution_count": null,
            "outputs": []
        },
        {
            "metadata": {},
            "cell_type": "markdown",
            "source": "We see that different launch sites have different success rates.  <code>CCAFS LC-40</code>, has a success rate of 60 %, while  <code>KSC LC-39A</code> and <code>VAFB SLC 4E</code> has a success rate of 77%."
        },
        {
            "metadata": {},
            "cell_type": "code",
            "source": "sns.catplot(x=\"Orbit\", y=\"ReusedCount\", hue=\"Class\", data=df, aspect = 3)\nplt.ylabel(\"ReusedCount\",fontsize=20)\nplt.xlabel(\"Orbit\",fontsize=20)\nplt.show()",
            "execution_count": null,
            "outputs": []
        },
        {
            "metadata": {},
            "cell_type": "markdown",
            "source": "Now try to explain the patterns you found in the Flight Number vs. Launch Site scatter point plots.\n"
        },
        {
            "metadata": {},
            "cell_type": "markdown",
            "source": "### TASK 2: Visualize the relationship between Payload and Launch Site\n"
        },
        {
            "metadata": {},
            "cell_type": "markdown",
            "source": "We also want to observe if there is any relationship between launch sites and their payload mass.\n"
        },
        {
            "metadata": {},
            "cell_type": "code",
            "source": "# Plot a scatter point chart with x axis to be Pay Load Mass (kg) and y axis to be the launch site, and hue to be the class value\nsns.catplot(x=\"PayloadMass\", y=\"LaunchSite\", hue=\"Class\", data=df, aspect=4)\nplt.ylabel(\"Launch Site\",fontsize=20)\nplt.xlabel(\"Payload Mass (kg)\",fontsize=20)\nplt.show()",
            "execution_count": null,
            "outputs": []
        },
        {
            "metadata": {},
            "cell_type": "code",
            "source": "# 2nd Plot a scatter point chart with x axis to be Pay Load Mass (kg) and y axis to be the launch site, and hue to be the class value\nsns.set_theme(style=\"ticks\")\nsns.catplot(x=\"PayloadMass\", y=\"LaunchSite\", hue=\"Class\", col=\"LaunchSite\", data=df, height=5, aspect=1.5)\nplt.ylabel(\"Launch Site\")\nplt.xlabel(\"Payload Mass (kg)\")\nplt.show()",
            "execution_count": null,
            "outputs": []
        },
        {
            "metadata": {},
            "cell_type": "markdown",
            "source": "Now if you observe Payload Vs. Launch Site scatter point chart you will find for the VAFB-SLC  launchsite there are no  rockets  launched for  heavypayload mass(greater than 10000).\n"
        },
        {
            "metadata": {},
            "cell_type": "markdown",
            "source": "### TASK  3: Visualize the relationship between success rate of each orbit type\n"
        },
        {
            "metadata": {},
            "cell_type": "markdown",
            "source": "Next, we want to visually check if there are any relationship between success rate and orbit type.\n"
        },
        {
            "metadata": {},
            "cell_type": "markdown",
            "source": "Let's create a `bar chart` for the sucess rate of each orbit\n"
        },
        {
            "metadata": {},
            "cell_type": "code",
            "source": "# HINT use groupby method on Orbit column and get the mean of Class column\ndf_mean = df.copy()\nresult_df = df_mean.groupby('Orbit').mean()  # calc the mean of Class\nresult_df[['Class','PayloadMass']]\n\n\n# sns.barplot(x=\"PayloadMass\", y=\"Orbit\", hue=\"Class\", data=df)\n# plt.ylabel(\"Orbit\",fontsize=20)\n# plt.xlabel(\"Payload Mass (kg)\",fontsize=20)\n# plt.show()",
            "execution_count": null,
            "outputs": []
        },
        {
            "metadata": {},
            "cell_type": "code",
            "source": "sns.barplot(y=\"Class\", x=\"Orbit\", data=df_mean)\nplt.xlabel(\"Orbit\",fontsize=20)\nplt.ylabel(\"Success (Mean)\",fontsize=20)\nplt.show()",
            "execution_count": null,
            "outputs": []
        },
        {
            "metadata": {},
            "cell_type": "code",
            "source": "sns.barplot(y=\"PayloadMass\", x=\"Orbit\", data=df_mean)\nplt.xlabel(\"Orbit\",fontsize=20)\nplt.ylabel(\"Payload Kg (Mean)\",fontsize=20)\nplt.show()",
            "execution_count": null,
            "outputs": []
        },
        {
            "metadata": {},
            "cell_type": "markdown",
            "source": "Analyze the ploted bar chart try to find which orbits have high sucess rate.\n"
        },
        {
            "metadata": {},
            "cell_type": "markdown",
            "source": "### TASK  4: Visualize the relationship between FlightNumber and Orbit type\n"
        },
        {
            "metadata": {},
            "cell_type": "markdown",
            "source": "For each orbit, we want to see if there is any relationship between FlightNumber and Orbit type.\n"
        },
        {
            "metadata": {},
            "cell_type": "code",
            "source": "# Plot a scatter point chart with x axis to be FlightNumber and y axis to be the Orbit, and hue to be the class value\nsns.catplot(y=\"Orbit\", x=\"FlightNumber\", hue=\"Class\", data=df, aspect = 5)\nplt.xlabel(\"FlightNumber\",fontsize=20)\nplt.ylabel(\"Orbit\",fontsize=20)\nplt.show()",
            "execution_count": null,
            "outputs": []
        },
        {
            "metadata": {},
            "cell_type": "code",
            "source": "# Plot a scatter point chart with x axis to be FlightNumber and y axis to be the Orbit, and hue to be the class value\nsns.catplot(y=\"Orbit\", x=\"FlightNumber\", hue=\"Class\", col=\"Orbit\", data=df, height=5, aspect = 1)\nplt.xlabel(\"FlightNumber\",fontsize=20)\nplt.ylabel(\"Orbit\",fontsize=20)\nplt.show()",
            "execution_count": null,
            "outputs": []
        },
        {
            "metadata": {},
            "cell_type": "code",
            "source": "sns.barplot(y=\"Orbit\", x=\"FlightNumber\", hue=\"Class\", data=df)\nplt.xlabel(\"FlightNumber\",fontsize=20)\nplt.ylabel(\"Orbit\",fontsize=20)\nplt.show()",
            "execution_count": null,
            "outputs": []
        },
        {
            "metadata": {},
            "cell_type": "markdown",
            "source": "You should see that in the LEO orbit the Success appears related to the number of flights; on the other hand, there seems to be no relationship between flight number when in GTO orbit.\n"
        },
        {
            "metadata": {},
            "cell_type": "markdown",
            "source": "### TASK  5: Visualize the relationship between Payload and Orbit type\n"
        },
        {
            "metadata": {},
            "cell_type": "markdown",
            "source": "Similarly, we can plot the Payload vs. Orbit scatter point charts to reveal the relationship between Payload and Orbit type\n"
        },
        {
            "metadata": {},
            "cell_type": "code",
            "source": "# Plot a scatter point chart with x axis to be Payload and y axis to be the Orbit, and hue to be the class value\nsns.catplot(y=\"Orbit\", x=\"PayloadMass\", hue=\"Class\", data=df, aspect=4)\nplt.xlabel(\"Payload Mass (kg)\",fontsize=10)\nplt.ylabel(\"Orbit\",fontsize=10)\nplt.show()",
            "execution_count": null,
            "outputs": []
        },
        {
            "metadata": {},
            "cell_type": "code",
            "source": "# Plot a scatter point chart with x axis to be Payload and y axis to be the Orbit, and hue to be the class value\nsns.catplot(y=\"Orbit\", x=\"PayloadMass\", hue=\"Class\", col=\"Orbit\", height=5, data=df, aspect = .5)\nplt.xlabel(\"Payload Mass (kg)\")\nplt.ylabel(\"Orbit\")\nplt.show()",
            "execution_count": null,
            "outputs": []
        },
        {
            "metadata": {},
            "cell_type": "markdown",
            "source": "With heavy payloads the successful landing or positive landing rate are more for Polar,LEO and ISS.\n\nHowever for GTO we cannot distinguish this well as both positive landing rate and negative landing(unsuccessful mission) are both there here.\n"
        },
        {
            "metadata": {},
            "cell_type": "markdown",
            "source": "### TASK  6: Visualize the launch success yearly trend\n"
        },
        {
            "metadata": {},
            "cell_type": "markdown",
            "source": "You can plot a line chart with x axis to be <code>Year</code> and y axis to be average success rate, to get the average launch success trend.\n"
        },
        {
            "metadata": {},
            "cell_type": "markdown",
            "source": "The function will help you get the year from the date:\n"
        },
        {
            "metadata": {},
            "cell_type": "code",
            "source": "# A function to Extract years from the date \nyear=[]\ndef Extract_year(date):\n    for i in df[\"Date\"]:\n        year.append(i.split(\"-\")[0])\n    return year\n    ",
            "execution_count": null,
            "outputs": []
        },
        {
            "metadata": {},
            "cell_type": "code",
            "source": "df_yr = df.copy()\nyear = Extract_year(df_yr.Date)\ndf_yr[\"Date\"] = year\ndf_yr.head()",
            "execution_count": null,
            "outputs": []
        },
        {
            "metadata": {},
            "cell_type": "code",
            "source": "# Plot a line chart with x axis to be the extracted year and y axis to be the success rate\nsns.lineplot(x=\"Date\", y=\"Class\", data=df_yr)\nplt.xlabel(\"Yr\",fontsize=20)\nplt.ylabel(\"Success\",fontsize=20)\nplt.show()",
            "execution_count": null,
            "outputs": []
        },
        {
            "metadata": {},
            "cell_type": "markdown",
            "source": "you can observe that the sucess rate since 2013 kept increasing till 2020\n"
        },
        {
            "metadata": {},
            "cell_type": "markdown",
            "source": "## Features Engineering\n"
        },
        {
            "metadata": {},
            "cell_type": "markdown",
            "source": "By now, you should obtain some preliminary insights about how each important variable would affect the success rate, we will select the features that will be used in success prediction in the future module.\n"
        },
        {
            "metadata": {},
            "cell_type": "code",
            "source": "features = df[['FlightNumber', 'PayloadMass', 'Orbit', 'LaunchSite', 'Flights', 'GridFins', 'Reused', 'Legs', 'LandingPad', 'Block', 'ReusedCount', 'Serial']]\nfeatures.head()",
            "execution_count": null,
            "outputs": []
        },
        {
            "metadata": {},
            "cell_type": "markdown",
            "source": "### TASK  7: Create dummy variables to categorical columns\n"
        },
        {
            "metadata": {},
            "cell_type": "markdown",
            "source": "Use the function <code>get_dummies</code> and <code>features</code> dataframe to apply OneHotEncoder to the column <code>Orbits</code>, <code>LaunchSite</code>, <code>LandingPad</code>, and <code>Serial</code>. Assign the value to the variable <code>features_one_hot</code>, display the results using the method head. Your result dataframe must include all features including the encoded ones.\n"
        },
        {
            "metadata": {},
            "cell_type": "code",
            "source": "# HINT: Use get_dummies() function on the categorical columns\n# one_hot = df[['Orbit','LaunchSite','LandingPad','Serial']]\nfeatures['Orbit'] = pd.get_dummies(df['Orbit'])\nfeatures['LaunchSite'] = pd.get_dummies(df['LaunchSite'])\nfeatures['LandingPad'] = pd.get_dummies(df['LandingPad'])\nfeatures['Serial'] = pd.get_dummies(df['Serial'])\nfeatures.head()",
            "execution_count": null,
            "outputs": []
        },
        {
            "metadata": {},
            "cell_type": "code",
            "source": "one_hot = features[['Orbit','LaunchSite','LandingPad','Serial']]\none_hot.head()",
            "execution_count": null,
            "outputs": []
        },
        {
            "metadata": {},
            "cell_type": "markdown",
            "source": "### TASK  8: Cast all numeric columns to `float64`\n"
        },
        {
            "metadata": {},
            "cell_type": "markdown",
            "source": "Now that our <code>features_one_hot</code> dataframe only contains numbers cast the entire dataframe to variable type <code>float64</code>\n"
        },
        {
            "metadata": {},
            "cell_type": "code",
            "source": "# HINT: use astype function\none_hot.astype('float64')\none_hot\n",
            "execution_count": null,
            "outputs": []
        },
        {
            "metadata": {},
            "cell_type": "markdown",
            "source": "We can now export it to a <b>CSV</b> for the next section,but to make the answers consistent, in the next lab we will provide data in a pre-selected date range.\n"
        },
        {
            "metadata": {},
            "cell_type": "markdown",
            "source": "<code>features_one_hot.to_csv('dataset_part\\_3.csv', index=False)</code>\n"
        },
        {
            "metadata": {},
            "cell_type": "code",
            "source": "one_hot.to_csv('dataset_part_3.csv',index=False)",
            "execution_count": null,
            "outputs": []
        },
        {
            "metadata": {},
            "cell_type": "markdown",
            "source": "## Authors\n"
        },
        {
            "metadata": {},
            "cell_type": "markdown",
            "source": "<a href=\"https://www.linkedin.com/in/joseph-s-50398b136/?utm_medium=Exinfluencer&utm_source=Exinfluencer&utm_content=000026UJ&utm_term=10006555&utm_id=NA-SkillsNetwork-Channel-SkillsNetworkCoursesIBMDS0321ENSkillsNetwork26802033-2021-01-01\">Joseph Santarcangelo</a> has a PhD in Electrical Engineering, his research focused on using machine learning, signal processing, and computer vision to determine how videos impact human cognition. Joseph has been working for IBM since he completed his PhD.\n"
        },
        {
            "metadata": {},
            "cell_type": "markdown",
            "source": "<a href=\"https://www.linkedin.com/in/nayefaboutayoun/?utm_medium=Exinfluencer&utm_source=Exinfluencer&utm_content=000026UJ&utm_term=10006555&utm_id=NA-SkillsNetwork-Channel-SkillsNetworkCoursesIBMDS0321ENSkillsNetwork26802033-2021-01-01\">Nayef Abou Tayoun</a> is a Data Scientist at IBM and pursuing a Master of Management in Artificial intelligence degree at Queen's University.\n"
        },
        {
            "metadata": {},
            "cell_type": "markdown",
            "source": "## Change Log\n"
        },
        {
            "metadata": {},
            "cell_type": "markdown",
            "source": "| Date (YYYY-MM-DD) | Version | Changed By    | Change Description      |\n| ----------------- | ------- | ------------- | ----------------------- |\n| 2021-10-12        | 1.1     | Lakshmi Holla | Modified markdown       |\n| 2020-09-20        | 1.0     | Joseph        | Modified Multiple Areas |\n| 2020-11-10        | 1.1     | Nayef         | updating the input data |\n"
        },
        {
            "metadata": {},
            "cell_type": "markdown",
            "source": "Copyright \u00a9 2020 IBM Corporation. All rights reserved.\n"
        }
    ],
    "metadata": {
        "interpreter": {
            "hash": "c8419f50ce55d51d221ff8a3e009e4102dfc0c8ff1cb4eba1b5d29d717547406"
        },
        "kernelspec": {
            "name": "python3",
            "display_name": "Python 3.8",
            "language": "python"
        },
        "language_info": {
            "name": "python",
            "version": "3.8.12",
            "mimetype": "text/x-python",
            "codemirror_mode": {
                "name": "ipython",
                "version": 3
            },
            "pygments_lexer": "ipython3",
            "nbconvert_exporter": "python",
            "file_extension": ".py"
        }
    },
    "nbformat": 4,
    "nbformat_minor": 4
}